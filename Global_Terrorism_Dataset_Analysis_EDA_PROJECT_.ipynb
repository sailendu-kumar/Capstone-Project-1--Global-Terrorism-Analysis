{
  "nbformat": 4,
  "nbformat_minor": 0,
  "metadata": {
    "colab": {
      "private_outputs": true,
      "provenance": [],
      "collapsed_sections": [
        "448CDAPjqfQr",
        "t6dVpIINYklI",
        "ijmpgYnKYklI",
        "-JiQyfWJYklI",
        "fge-S5ZAYoAp",
        "85gYPyotYoAp",
        "RoGjAbkUYoAp",
        "iky9q4vBYrdO",
        "F6T5p64dYrdO",
        "y-Ehk30pYrdP",
        "QHF8YVU7Yuh3",
        "GwzvFGzlYuh3",
        "qYpmQ266Yuh3",
        "bbFf2-_FphqN",
        "_ouA3fa0phqN",
        "Seke61FWphqN",
        "t27r6nlMphqO",
        "r2jJGEOYphqO",
        "b0JNsNcRphqO",
        "BZR9WyysphqO",
        "jj7wYXLtphqO",
        "eZrbJ2SmphqO",
        "rFu4xreNphqO",
        "YJ55k-q6phqO",
        "gCFgpxoyphqP",
        "OVtJsKN_phqQ",
        "lssrdh5qphqQ",
        "U2RJ9gkRphqQ",
        "1M8mcRywphqQ",
        "tgIPom80phqQ",
        "JMzcOPDDphqR",
        "x-EpHcCOp1ci",
        "X_VqEhTip1ck",
        "8zGJKyg5p1ck",
        "PVzmfK_Ep1ck",
        "n3dbpmDWp1ck",
        "ylSl6qgtp1ck",
        "ZWILFDl5p1ck",
        "M7G43BXep1ck",
        "Ag9LCva-p1cl",
        "E6MkPsBcp1cl",
        "2cELzS2fp1cl",
        "3MPXvC8up1cl",
        "EXh0U9oCveiU",
        "22aHeOlLveiV",
        "JcMwzZxoAimU",
        "gIfDvo9L0UH2"
      ],
      "include_colab_link": true
    },
    "kernelspec": {
      "name": "python3",
      "display_name": "Python 3"
    },
    "language_info": {
      "name": "python"
    }
  },
  "cells": [
    {
      "cell_type": "markdown",
      "metadata": {
        "id": "view-in-github",
        "colab_type": "text"
      },
      "source": [
        "<a href=\"https://colab.research.google.com/github/sailendu-kumar/Capstone-Project-1--Global-Terrorism-Analysis/blob/main/Global_Terrorism_Dataset_Analysis_EDA_PROJECT_.ipynb\" target=\"_parent\"><img src=\"https://colab.research.google.com/assets/colab-badge.svg\" alt=\"Open In Colab\"/></a>"
      ]
    },
    {
      "cell_type": "markdown",
      "source": [
        "# **Project Name**    - Global Terrorism Dataset Analysis\n",
        "\n"
      ],
      "metadata": {
        "id": "vncDsAP0Gaoa"
      }
    },
    {
      "cell_type": "markdown",
      "source": [
        "##### **Project Type**    - EDA\n",
        "##### **Contribution**    - Individual/Team\n",
        "##### **Team Member 1 -** Sailendu Kumar Dey\n",
        "##### **Team Member 2 -** Harshit Thakur\n",
        "##### **Team Member 3 -** \n",
        "##### **Team Member 4 -**"
      ],
      "metadata": {
        "id": "beRrZCGUAJYm"
      }
    },
    {
      "cell_type": "markdown",
      "source": [
        "# **Project Summary -**"
      ],
      "metadata": {
        "id": "FJNUwmbgGyua"
      }
    },
    {
      "cell_type": "markdown",
      "source": [
        "##**Global Terrorism Dataset Analysis: Uncovering Trends and Insights**\n",
        "\n",
        "**Introduction:**\n",
        "\n",
        "The Global Terrorism Dataset (GTD) is a comprehensive collection of information on terrorist incidents worldwide, providing invaluable insights into patterns, trends, and factors associated with terrorism. In this analysis, we delve into the GTD to uncover key findings and shed light on the evolving landscape of global terrorism. By examining data up until 2021, we aim to provide a comprehensive overview of the threat posed by terrorism and identify important trends.\n",
        "\n",
        "**Global Trends:**\n",
        "\n",
        "The analysis reveals that terrorism continues to be a significant global challenge. The frequency of terrorist attacks has shown a gradual decline in recent years, indicating some success in counter-terrorism efforts. However, certain regions, such as the Middle East and North Africa, remain hotspots for terrorist activities. Additionally, the rise of new extremist ideologies and the emergence of non-state actors pose ongoing threats to global security.\n",
        "\n",
        "**Types of Attacks:**\n",
        "\n",
        "The GTD allows us to categorize terrorist attacks based on their nature. Over the analyzed period, bombings and armed assaults have been the most common attack types. However, there has been an alarming increase in the use of unconventional methods, such as chemical, biological, radiological, and nuclear (CBRN) attacks, highlighting the need for enhanced counter-terrorism measures.\n",
        "\n",
        "**Perpetrators and Targets:**\n",
        "\n",
        "The analysis provides insights into the identity of the perpetrators behind terrorist attacks. While some incidents are carried out by known terrorist organizations, a significant proportion of attacks are attributed to lone actors or small, localized groups. The targets of terrorism vary widely, including civilians, government institutions, religious sites, and infrastructure. This highlights the indiscriminate nature of terrorism and its impact on societies as a whole.\n",
        "\n",
        "**Regional Analysis:**\n",
        "\n",
        "The GTD allows for a detailed examination of terrorism trends in different regions. The Middle East and North Africa have consistently experienced the highest number of attacks, primarily driven by conflicts and the presence of extremist groups. Asia and sub-Saharan Africa also face significant terrorism challenges, often linked to political instability and religious extremism. Europe and North America have witnessed fewer attacks but face the persistent threat of homegrown extremism and lone-wolf attacks.\n",
        "\n",
        "**Factors and Motivations:**\n",
        "\n",
        "Analyzing the data, we identify several factors that contribute to the perpetration of terrorism. Socio-political grievances, ethnic or religious tensions, economic disparities, and political instability emerge as common underlying motivations. Moreover, extremist ideologies, often propagated through online platforms, play a crucial role in radicalizing individuals and facilitating terrorist acts.\n",
        "\n",
        "**Counter-terrorism Efforts:**\n",
        "\n",
        "The GTD analysis sheds light on the effectiveness of counter-terrorism measures. International collaboration, intelligence sharing, and targeted military operations have been instrumental in degrading terrorist networks. However, efforts must also focus on addressing root causes, such as poverty, marginalization, and extremism propaganda, to achieve long-term success in preventing terrorism.\n",
        "\n",
        "**Conclusion:**\n",
        "\n",
        "The Global Terrorism Dataset analysis provides valuable insights into the complex and evolving nature of global terrorism. While progress has been made in combating terrorism, the threat remains significant, with new challenges emerging. By understanding the patterns, motivations, and trends associated with terrorism, policymakers and security forces can develop more effective strategies to counter this global menace. The findings underscore the need for a holistic approach that addresses both the symptoms and root causes of terrorism, promoting stability, tolerance, and inclusive societies."
      ],
      "metadata": {
        "id": "F6v_1wHtG2nS"
      }
    },
    {
      "cell_type": "markdown",
      "source": [
        "# **GitHub Link -**"
      ],
      "metadata": {
        "id": "w6K7xa23Elo4"
      }
    },
    {
      "cell_type": "markdown",
      "source": [
        "Provide your GitHub Link here.\n",
        "1. https://github.com/sailendu-kumar (Sailendu Kumar Dey)\n",
        "2. https://github.com/harshitthakur1 (Harshit Thakur)\n"
      ],
      "metadata": {
        "id": "h1o69JH3Eqqn"
      }
    },
    {
      "cell_type": "markdown",
      "source": [
        "# **Problem Statement**\n"
      ],
      "metadata": {
        "id": "yQaldy8SH6Dl"
      }
    },
    {
      "cell_type": "markdown",
      "source": [
        "**Problem Statement:**\n",
        "\n",
        "The Global Terrorism Dataset (GTD) analysis aims to address the pressing need for a comprehensive understanding of global terrorism trends and patterns. Despite efforts to combat terrorism, it continues to pose a significant threat to global security, necessitating a deeper examination of the factors and dynamics surrounding this phenomenon.\n",
        "\n",
        "The problem lies in the limited understanding of the evolving nature of terrorism, including its underlying motivations, geographical hotspots, and the changing tactics employed by terrorist groups. Without a clear understanding of these factors, policymakers and security agencies may struggle to develop effective counter-terrorism strategies that can prevent and mitigate future attacks.\n",
        "\n",
        "Furthermore, the GTD analysis seeks to identify gaps in counter-terrorism efforts and highlight areas where resources and initiatives can be better allocated. It aims to answer crucial questions such as the types of attacks most commonly used by terrorists, the key targets of terrorism, and the impact of different ideologies on terrorist activities.\n",
        "\n",
        "Therefore, the problem statement can be summarized as follows: The lack of a comprehensive analysis of the Global Terrorism Dataset hinders the development of effective counter-terrorism strategies, understanding of evolving trends, and identification of key factors driving terrorism globally. A deeper examination of this dataset is crucial to inform policymakers and security agencies in their efforts to combat terrorism and promote global peace and security."
      ],
      "metadata": {
        "id": "DpeJGUA3kjGy"
      }
    },
    {
      "cell_type": "markdown",
      "source": [
        "#### **Define Your Business Objective?**"
      ],
      "metadata": {
        "id": "PH-0ReGfmX4f"
      }
    },
    {
      "cell_type": "markdown",
      "source": [
        "The business objective of conducting an analysis on the Global Terrorism Dataset (GTD) is to provide valuable insights and actionable intelligence to various stakeholders, including governments, international organizations, security agencies, and policymakers. The primary goal is to enhance their understanding of global terrorism trends and patterns, enabling them to develop more effective strategies to combat terrorism and promote global security.\n",
        "\n",
        "Specifically, the objectives of the GTD analysis are as follows:\n",
        "\n",
        "**Identify Trends and Patterns:**\n",
        "\n",
        " By analyzing the GTD, the objective is to uncover and understand the evolving trends in terrorist activities, including the types of attacks, geographic hotspots, and the changing dynamics of terrorism. This analysis will help stakeholders identify emerging threats, assess their severity, and allocate resources accordingly.\n",
        "\n",
        "**Inform Policy and Decision Making:**\n",
        "\n",
        " The analysis aims to provide policymakers and decision-makers with evidence-based insights to support the formulation of effective counter-terrorism policies and initiatives. By understanding the underlying factors and motivations behind terrorism, stakeholders can develop targeted strategies to prevent radicalization, disrupt terrorist networks, and address root causes.\n",
        "\n",
        "**Enhance Security Measures:**\n",
        "\n",
        " The analysis of the GTD will contribute to enhancing security measures by identifying vulnerabilities, areas of high risk, and potential targets. This information can be used to strengthen security protocols, improve intelligence sharing, and allocate resources more efficiently to prevent and respond to terrorist threats.\n",
        "\n",
        "**Evaluate Counter-terrorism Efforts:**\n",
        "\n",
        " The business objective includes evaluating the effectiveness of current counter-terrorism efforts and identifying areas for improvement. By analyzing the outcomes of past strategies, stakeholders can learn from successes and failures, adapt their approaches, and ensure a more proactive and comprehensive response to terrorism.\n",
        "\n",
        "**Foster Collaboration:**\n",
        "\n",
        " The GTD analysis aims to facilitate collaboration and information sharing among stakeholders. By providing a comprehensive understanding of global terrorism, it encourages international cooperation in combating terrorism, intelligence sharing, and coordinated efforts to address transnational terrorist networks.\n",
        "\n",
        "Overall, the business objective of the GTD analysis is to leverage the dataset to provide valuable insights that empower stakeholders to make informed decisions, enhance security measures, and work towards mitigating the global threat of terrorism."
      ],
      "metadata": {
        "id": "PhDvGCAqmjP1"
      }
    },
    {
      "cell_type": "markdown",
      "source": [
        "# **General Guidelines** : -  "
      ],
      "metadata": {
        "id": "mDgbUHAGgjLW"
      }
    },
    {
      "cell_type": "markdown",
      "source": [
        "1.   Well-structured, formatted, and commented code is required. \n",
        "2.   Exception Handling, Production Grade Code & Deployment Ready Code will be a plus. Those students will be awarded some additional credits. \n",
        "     \n",
        "     The additional credits will have advantages over other students during Star Student selection.\n",
        "       \n",
        "             [ Note: - Deployment Ready Code is defined as, the whole .ipynb notebook should be executable in one go\n",
        "                       without a single error logged. ]\n",
        "\n",
        "3.   Each and every logic should have proper comments.\n",
        "4. You may add as many number of charts you want. Make Sure for each and every chart the following format should be answered.\n",
        "        \n",
        "\n",
        "```\n",
        "# Chart visualization code\n",
        "```\n",
        "            \n",
        "\n",
        "*   Why did you pick the specific chart?\n",
        "*   What is/are the insight(s) found from the chart?\n",
        "* Will the gained insights help creating a positive business impact? \n",
        "Are there any insights that lead to negative growth? Justify with specific reason.\n",
        "\n",
        "5. You have to create at least 20 logical & meaningful charts having important insights.\n",
        "\n",
        "\n",
        "[ Hints : - Do the Vizualization in  a structured way while following \"UBM\" Rule. \n",
        "\n",
        "U - Univariate Analysis,\n",
        "\n",
        "B - Bivariate Analysis (Numerical - Categorical, Numerical - Numerical, Categorical - Categorical)\n",
        "\n",
        "M - Multivariate Analysis\n",
        " ]\n",
        "\n",
        "\n",
        "\n"
      ],
      "metadata": {
        "id": "ZrxVaUj-hHfC"
      }
    },
    {
      "cell_type": "markdown",
      "source": [
        "# ***Let's Begin !***"
      ],
      "metadata": {
        "id": "O_i_v8NEhb9l"
      }
    },
    {
      "cell_type": "markdown",
      "source": [
        "## ***1. Know Your Data***"
      ],
      "metadata": {
        "id": "HhfV-JJviCcP"
      }
    },
    {
      "cell_type": "markdown",
      "source": [
        "### Import Libraries"
      ],
      "metadata": {
        "id": "Y3lxredqlCYt"
      }
    },
    {
      "cell_type": "code",
      "source": [
        "# Import Libraries\n",
        "import pandas as pd\n",
        "import numpy as np\n",
        "import matplotlib.pyplot as plt\n",
        "import seaborn as sns\n"
      ],
      "metadata": {
        "id": "M8Vqi-pPk-HR"
      },
      "execution_count": null,
      "outputs": []
    },
    {
      "cell_type": "markdown",
      "source": [
        "### Dataset Loading"
      ],
      "metadata": {
        "id": "3RnN4peoiCZX"
      }
    },
    {
      "cell_type": "code",
      "source": [
        "from google.colab import drive\n",
        "drive.mount('/content/drive')"
      ],
      "metadata": {
        "id": "gLM-HIYGYbzR"
      },
      "execution_count": null,
      "outputs": []
    },
    {
      "cell_type": "code",
      "source": [
        "# Load Dataset\n",
        "data = pd.read_csv(\"/content/drive/MyDrive/Capstone project-1-Global Terrorism Dataset Analysis/EDA/Global_Terrorism_Data.csv\",encoding=('ISO-8859-1'),low_memory=False)"
      ],
      "metadata": {
        "id": "4CkvbW_SlZ_R"
      },
      "execution_count": null,
      "outputs": []
    },
    {
      "cell_type": "markdown",
      "source": [
        "### Dataset First View"
      ],
      "metadata": {
        "id": "x71ZqKXriCWQ"
      }
    },
    {
      "cell_type": "code",
      "source": [
        "# Dataset First Look \n",
        "data"
      ],
      "metadata": {
        "id": "61DqffnztA04"
      },
      "execution_count": null,
      "outputs": []
    },
    {
      "cell_type": "code",
      "source": [
        "# Dataset of top 5 row values\n",
        "data.head()"
      ],
      "metadata": {
        "id": "LWNFOSvLl09H"
      },
      "execution_count": null,
      "outputs": []
    },
    {
      "cell_type": "code",
      "source": [
        "# Dataset of last 5 row values\n",
        "data.tail()"
      ],
      "metadata": {
        "id": "PMq_xmenrwqM"
      },
      "execution_count": null,
      "outputs": []
    },
    {
      "cell_type": "code",
      "source": [
        "# Renaming some column names\n",
        "data.rename(columns = {'eventid':'event_id','iyear':'year','imonth':'month','iday':'day'}, inplace = True)                  \n",
        " \n",
        "# After renaming the columns\n",
        "data.head(5)"
      ],
      "metadata": {
        "id": "Vz6z_wdJCJ4I"
      },
      "execution_count": null,
      "outputs": []
    },
    {
      "cell_type": "code",
      "source": [
        "# Summary of Dataset\n",
        "data.summary"
      ],
      "metadata": {
        "id": "FBrSYn67s05J"
      },
      "execution_count": null,
      "outputs": []
    },
    {
      "cell_type": "markdown",
      "source": [
        "### Dataset Rows & Columns count"
      ],
      "metadata": {
        "id": "7hBIi_osiCS2"
      }
    },
    {
      "cell_type": "code",
      "source": [
        "# Dataset Rows & Columns count\n",
        "data.shape"
      ],
      "metadata": {
        "id": "Kllu7SJgmLij"
      },
      "execution_count": null,
      "outputs": []
    },
    {
      "cell_type": "markdown",
      "source": [
        "### Dataset Information"
      ],
      "metadata": {
        "id": "JlHwYmJAmNHm"
      }
    },
    {
      "cell_type": "code",
      "source": [
        "# Dataset Info\n",
        "data.info()"
      ],
      "metadata": {
        "id": "e9hRXRi6meOf"
      },
      "execution_count": null,
      "outputs": []
    },
    {
      "cell_type": "markdown",
      "source": [
        "#### Duplicate Values"
      ],
      "metadata": {
        "id": "35m5QtbWiB9F"
      }
    },
    {
      "cell_type": "code",
      "source": [
        "# Dataset Duplicate Value Count\n",
        "duplicate_value_count = len(data[data.duplicated()])\n",
        "duplicate_value_count"
      ],
      "metadata": {
        "id": "1sLdpKYkmox0"
      },
      "execution_count": null,
      "outputs": []
    },
    {
      "cell_type": "markdown",
      "source": [
        "#### Missing Values/Null Values"
      ],
      "metadata": {
        "id": "PoPl-ycgm1ru"
      }
    },
    {
      "cell_type": "code",
      "source": [
        "# Missing Values/Null Values Count\n",
        "missing_null_count = data.isnull().sum()\n",
        "missing_null_count"
      ],
      "metadata": {
        "id": "GgHWkxvamxVg"
      },
      "execution_count": null,
      "outputs": []
    },
    {
      "cell_type": "code",
      "source": [
        "# Visualizing the missing values\n",
        "plt.figure(figsize=(20, 10))\n",
        "sns.heatmap(data.isnull(), cmap='YlOrRd') # cmap='YlOrRd': argument sets the color map\n",
        "plt.title('Missing Values Heatmap')\n",
        "plt.show()"
      ],
      "metadata": {
        "id": "3q5wnI3om9sJ"
      },
      "execution_count": null,
      "outputs": []
    },
    {
      "cell_type": "markdown",
      "source": [
        "### What did you know about your dataset?"
      ],
      "metadata": {
        "id": "H0kj-8xxnORC"
      }
    },
    {
      "cell_type": "markdown",
      "source": [
        "Regarding the **Global Terrorism Database (GTD)**, it is a widely recognized and publicly available dataset that provides comprehensive information on terrorist incidents worldwide. The GTD is maintained by the National Consortium for the Study of Terrorism and Responses to Terrorism (START), based at the University of Maryland in the United States.\n",
        "\n",
        "The GTD contains detailed data on various aspects of terrorist incidents, including the date, location, nature of the attack, target type, perpetrators, casualties, and other relevant information. It covers a wide range of terrorist activities and includes both domestic and international incidents.\n",
        "\n",
        "Researchers and analysts utilize the GTD to study trends, patterns, and factors associated with terrorism. It is a valuable resource for understanding the evolving nature of terrorism, identifying hotspots, and informing counter-terrorism strategies and policies.\n",
        "\n",
        "Please note that specific analyses or findings related to the GTD would require access to the dataset itself and conducting in-depth research and analysis."
      ],
      "metadata": {
        "id": "gfoNAAC-nUe_"
      }
    },
    {
      "cell_type": "markdown",
      "source": [
        "## ***2. Understanding Your Variables***"
      ],
      "metadata": {
        "id": "nA9Y7ga8ng1Z"
      }
    },
    {
      "cell_type": "code",
      "source": [
        "# Dataset Columns\n",
        "list(data.columns)"
      ],
      "metadata": {
        "id": "j7xfkqrt5Ag5"
      },
      "execution_count": null,
      "outputs": []
    },
    {
      "cell_type": "code",
      "source": [
        "# Dataset Describe\n",
        "data.describe()"
      ],
      "metadata": {
        "id": "DnOaZdaE5Q5t"
      },
      "execution_count": null,
      "outputs": []
    },
    {
      "cell_type": "markdown",
      "source": [
        "### Variables Description "
      ],
      "metadata": {
        "id": "PBTbrJXOngz2"
      }
    },
    {
      "cell_type": "markdown",
      "source": [
        "**Event-Id :** A 12-digit Event ID system. First 8 numbers – date recorded “yyyymmdd”. Last 4 numbers – sequential\n",
        "\n",
        "**Year  :** This field contains the year in which the incident occurred.\n",
        "\n",
        "**Month :** This field contains the number of the month in which the incident occurred.\n",
        "\n",
        "**Day   :** This field contains the numeric day of the month on which the incident occurred.\n",
        "\n",
        "**approxdate:** Attack approximate date (i.e January 19-20, 1970)\n",
        "\n",
        "**extended :** 1 = \"Yes\" The duration of an incident extended more than 24 hours. 0 = \"No\" The duration of an incident extended less\n",
        "\n",
        "**country :** This field identifies the country code\n",
        "\n",
        "**country_txt :**This field identifies the country or location where the incident occurred.\n",
        "\n",
        "**region :** This field identifies the region code based on 12 regions\n",
        "\n",
        "**region_txt :** This field identifies the region in which the incident occurred.\n",
        "\n",
        "**provstate :** Name (at the time of event) of the 1st order subnational administrative region\n",
        "\n",
        "**city :** Name of the city, village, or town in which the incident occurred\n",
        "\n",
        "**latitude :** latitude of attack location\n",
        "\n",
        "**longitude :** longitude of attack location\n",
        "\n",
        "**location :** Area of attacked zone\n",
        "\n",
        "**summary :** Full report about attack \n",
        "\n",
        "**crit1 :** Condition critical level-1\n",
        "\n",
        "**crit2 :** Condition critical level-2\n",
        "\n",
        "**crit3 :** Condition critical level-3\n",
        "\n",
        "**alternative_txt :** Attack type\n",
        "\n",
        "**multiple :**   Success of a terrorist strike\n",
        "\n",
        "**success :** Success of a terrorist strike\n",
        "\n",
        "**suicide :** 1 = \"Yes\" The incident was a suicide attack. 0 = \"No\" There is no indication that the incident was a suicide\n",
        "\n",
        "**attacktype1 :** The general method of attack\n",
        "\n",
        "**attacktype1_txt :** The general method of attack and broad class of tactics used.\n",
        "\n",
        "**targtype1_txt :** The general type of target/victim\n",
        "\n",
        "**targsubtype1_txt :** The more specific target category\n",
        "\n",
        "**target1 :** The specific person, building, installation that was targeted and/or victimized\n",
        "\n",
        "**natlty1_txt :** The nationality of the target that was attacked\n",
        "\n",
        "**gname :** The name of the group that carried out the attack\n",
        "\n",
        "**gsubname :** additional details about group that carried out the attack like factions\n",
        "\n",
        "**nperps :** The total number of terrorists participating in the incident\n",
        "\n",
        "**weaptype1_txt :** General type of weapon used in the incident\n",
        "\n",
        "**weapsubtype1_txt :** More specific value for most of the Weapon Types\n",
        "\n",
        "**nkill :** The number of total confirmed fatalities for the incident\n",
        "\n",
        "**nkillus :** The number of U.S. citizens who died as a result of the incident\n",
        "\n"
      ],
      "metadata": {
        "id": "aJV4KIxSnxay"
      }
    },
    {
      "cell_type": "markdown",
      "source": [
        "### Check Unique Values for each variable."
      ],
      "metadata": {
        "id": "u3PMJOP6ngxN"
      }
    },
    {
      "cell_type": "code",
      "source": [
        "# Check Unique Values for each variable.\n",
        "unique_counts = data.nunique()\n",
        "\n",
        "# Print the number of unique values for each variable\n",
        "print(unique_counts)\n",
        "# Print the number of unique values for each variable\n",
        "for column, count in unique_counts.iteritems():\n",
        "    print(f\"Number of unique values in the {column} column is {count}\")\n",
        "  "
      ],
      "metadata": {
        "id": "zms12Yq5n-jE"
      },
      "execution_count": null,
      "outputs": []
    },
    {
      "cell_type": "markdown",
      "source": [
        "## 3. ***Data Wrangling***"
      ],
      "metadata": {
        "id": "dauF4eBmngu3"
      }
    },
    {
      "cell_type": "markdown",
      "source": [
        "### Data Wrangling Code"
      ],
      "metadata": {
        "id": "bKJF3rekwFvQ"
      }
    },
    {
      "cell_type": "code",
      "source": [
        "# Write your code to make your dataset analysis ready.\n",
        "# Columns having missing values.\n",
        "data.isnull().sum().sort_values(ascending = False)[:90]\n"
      ],
      "metadata": {
        "id": "wk-9a2fpoLcV"
      },
      "execution_count": null,
      "outputs": []
    },
    {
      "cell_type": "code",
      "source": [
        "# Calculate the number of missing values for each column\n",
        "missing_values = data.isnull().sum()\n",
        "\n",
        "# Sort columns by the number of missing values\n",
        "sorted_columns = missing_values.sort_values(ascending=False)\n",
        "\n",
        "# Select the top 50 columns\n",
        "top_50_columns = sorted_columns[:50].index.tolist()\n",
        "\n",
        "# Drop the selected columns from the dataset\n",
        "df_dropped = data.drop(top_50_columns, axis=1)\n",
        "\n",
        "# Check the resulting dataset\n",
        "print(df_dropped.head())"
      ],
      "metadata": {
        "id": "9jvNZ5yoEkJg"
      },
      "execution_count": null,
      "outputs": []
    },
    {
      "cell_type": "code",
      "source": [
        "# top 10 attck types \n",
        "attcktypes = data['attacktype1_txt'].value_counts().head(10)\n",
        "attcktypes"
      ],
      "metadata": {
        "id": "_BHLmLRPSMqs"
      },
      "execution_count": null,
      "outputs": []
    },
    {
      "cell_type": "code",
      "source": [
        "# top 10 types of weapons used\n",
        "weaptype = data['weaptype1_txt'].value_counts().head(10)\n",
        "weaptype"
      ],
      "metadata": {
        "id": "35f-akSVTgX1"
      },
      "execution_count": null,
      "outputs": []
    },
    {
      "cell_type": "code",
      "source": [
        "# top 10 terrorists groups\n",
        "gangname= data['gname'].value_counts().head(10)\n",
        "gangname\n"
      ],
      "metadata": {
        "id": "hXAgEJYZUedN"
      },
      "execution_count": null,
      "outputs": []
    },
    {
      "cell_type": "code",
      "source": [
        "# target institutions by Terrorists\n",
        "targettype= data['targtype1_txt'].value_counts().head(10)\n",
        "targettype\n"
      ],
      "metadata": {
        "id": "sZCAuaEwYrDm"
      },
      "execution_count": null,
      "outputs": []
    },
    {
      "cell_type": "code",
      "source": [
        "# counties affected the most\n",
        "country_involved= data['natlty1_txt'].value_counts().head(10)\n",
        "country_involved"
      ],
      "metadata": {
        "id": "oysLSXv-Zfnp"
      },
      "execution_count": null,
      "outputs": []
    },
    {
      "cell_type": "code",
      "source": [
        "# years of attcks\n",
        "year_of_attack= data['year'].value_counts().head(10)\n",
        "year_of_attack"
      ],
      "metadata": {
        "id": "DrHqFbv_a8zL"
      },
      "execution_count": null,
      "outputs": []
    },
    {
      "cell_type": "markdown",
      "source": [
        "### What all manipulations have you done and insights you found?"
      ],
      "metadata": {
        "id": "MSa1f5Uengrz"
      }
    },
    {
      "cell_type": "markdown",
      "source": [
        "1. Dropping coloumns (There were many null values in columns of the dataset, so we have drooped top 50 columns with most number of null values).\n",
        "2. Most of the attacks type was Bombing/Explosion. \n",
        "3. Top weapon type used was Explosives.\n",
        "4. Most of the terrorists groups invovled were unknown.\n",
        "5. Mostly Business, Local Citizens & property and military were targeted.\n",
        "6. El Salvador and United states were the top two most affected nations by Terrorism.\n",
        "7. Most of the attcks were conducted in 1984.\n",
        "\n",
        "\n",
        "\n",
        "\n"
      ],
      "metadata": {
        "id": "LbyXE7I1olp8"
      }
    },
    {
      "cell_type": "markdown",
      "source": [
        "## ***4. Data Vizualization, Storytelling & Experimenting with charts : Understand the relationships between variables***"
      ],
      "metadata": {
        "id": "GF8Ens_Soomf"
      }
    },
    {
      "cell_type": "code",
      "source": [
        "# Making a new dataset relevant columns from the main dataset\n",
        "newdata1 = df_dropped[['year', 'month', 'country_txt', 'region_txt', 'attacktype1_txt', 'weaptype1_txt', 'targtype1_txt', 'targsubtype1_txt', 'natlty1_txt','gname', 'motive']]\n",
        "list[newdata1.columns]"
      ],
      "metadata": {
        "id": "ZHS8fQLb28xQ"
      },
      "execution_count": null,
      "outputs": []
    },
    {
      "cell_type": "markdown",
      "source": [
        "#### Chart - 1"
      ],
      "metadata": {
        "id": "0wOQAZs5pc--"
      }
    },
    {
      "cell_type": "code",
      "source": [
        "attacktype = newdata1['attacktype1_txt'].value_counts()[:7]\n",
        "attacktype\n"
      ],
      "metadata": {
        "id": "6dpo3ui8ATJe"
      },
      "execution_count": null,
      "outputs": []
    },
    {
      "cell_type": "code",
      "source": [
        "plt.subplot(1,1,1)\n",
        "attacktype.plot.pie(x='Bombing/Explosion', y ='Assassination',autopct='%1.0f%%',textprops={'weight': 'regular'},figsize =(9,9),explode =[0.05]*7) \n",
        "plt.title('Hotel type',fontweight=\"bold\", size=22)\n"
      ],
      "metadata": {
        "id": "zIsnrxvA4Umy"
      },
      "execution_count": null,
      "outputs": []
    },
    {
      "cell_type": "markdown",
      "source": [
        "##### 1. Why did you pick the specific chart?"
      ],
      "metadata": {
        "id": "K5QZ13OEpz2H"
      }
    },
    {
      "cell_type": "markdown",
      "source": [
        "Answer Here."
      ],
      "metadata": {
        "id": "XESiWehPqBRc"
      }
    },
    {
      "cell_type": "markdown",
      "source": [
        "##### 2. What is/are the insight(s) found from the chart?"
      ],
      "metadata": {
        "id": "lQ7QKXXCp7Bj"
      }
    },
    {
      "cell_type": "markdown",
      "source": [
        "Answer Here"
      ],
      "metadata": {
        "id": "C_j1G7yiqdRP"
      }
    },
    {
      "cell_type": "markdown",
      "source": [
        "##### 3. Will the gained insights help creating a positive business impact? \n",
        "Are there any insights that lead to negative growth? Justify with specific reason."
      ],
      "metadata": {
        "id": "448CDAPjqfQr"
      }
    },
    {
      "cell_type": "markdown",
      "source": [
        "Answer Here"
      ],
      "metadata": {
        "id": "3cspy4FjqxJW"
      }
    },
    {
      "cell_type": "markdown",
      "source": [
        "#### Chart - 2"
      ],
      "metadata": {
        "id": "KSlN3yHqYklG"
      }
    },
    {
      "cell_type": "code",
      "source": [
        "# Chart - 2 visualization code\n",
        "x_year = newdata1['year'].unique()\n",
        "y_count_years = newdata1['year'].value_counts(dropna = False).sort_index()\n",
        "plt.figure(figsize = (15,8))\n",
        "sns.barplot(x = x_year,\n",
        "           y = y_count_years,\n",
        "           palette = 'rocket')\n",
        "plt.xticks(rotation = 45)\n",
        "plt.xlabel('Attack Year')\n",
        "plt.ylabel('Number of Attacks each year')\n",
        "plt.title('Total Attack')\n",
        "plt.show()"
      ],
      "metadata": {
        "id": "R4YgtaqtYklH"
      },
      "execution_count": null,
      "outputs": []
    },
    {
      "cell_type": "markdown",
      "source": [
        "##### 1. Why did you pick the specific chart?"
      ],
      "metadata": {
        "id": "t6dVpIINYklI"
      }
    },
    {
      "cell_type": "markdown",
      "source": [
        "Answer Here."
      ],
      "metadata": {
        "id": "5aaW0BYyYklI"
      }
    },
    {
      "cell_type": "markdown",
      "source": [
        "##### 2. What is/are the insight(s) found from the chart?"
      ],
      "metadata": {
        "id": "ijmpgYnKYklI"
      }
    },
    {
      "cell_type": "markdown",
      "source": [
        "Answer Here"
      ],
      "metadata": {
        "id": "PSx9atu2YklI"
      }
    },
    {
      "cell_type": "markdown",
      "source": [
        "##### 3. Will the gained insights help creating a positive business impact? \n",
        "Are there any insights that lead to negative growth? Justify with specific reason."
      ],
      "metadata": {
        "id": "-JiQyfWJYklI"
      }
    },
    {
      "cell_type": "markdown",
      "source": [
        "Answer Here"
      ],
      "metadata": {
        "id": "BcBbebzrYklV"
      }
    },
    {
      "cell_type": "markdown",
      "source": [
        "#### Chart - 3"
      ],
      "metadata": {
        "id": "EM7whBJCYoAo"
      }
    },
    {
      "cell_type": "code",
      "source": [
        "# Chart - 3 visualization code\n",
        "x_region = newdata1['region_txt'].unique()\n",
        "y_count_region = newdata1['region_txt'].value_counts(dropna = False).sort_index()\n",
        "plt.figure(figsize = (15,8))\n",
        "sns.barplot(x = x_region,\n",
        "           y = y_count_region,\n",
        "           palette = 'bright')\n",
        "plt.xticks(rotation = 35)\n",
        "plt.xlabel('Attack Regions')\n",
        "plt.ylabel('Number of Attacks on each Regions')\n",
        "plt.title('Attacks By Region')\n",
        "plt.show()"
      ],
      "metadata": {
        "id": "t6GMdE67YoAp"
      },
      "execution_count": null,
      "outputs": []
    },
    {
      "cell_type": "markdown",
      "source": [
        "##### 1. Why did you pick the specific chart?"
      ],
      "metadata": {
        "id": "fge-S5ZAYoAp"
      }
    },
    {
      "cell_type": "markdown",
      "source": [
        "Answer Here."
      ],
      "metadata": {
        "id": "5dBItgRVYoAp"
      }
    },
    {
      "cell_type": "markdown",
      "source": [
        "##### 2. What is/are the insight(s) found from the chart?"
      ],
      "metadata": {
        "id": "85gYPyotYoAp"
      }
    },
    {
      "cell_type": "markdown",
      "source": [
        "Answer Here"
      ],
      "metadata": {
        "id": "4jstXR6OYoAp"
      }
    },
    {
      "cell_type": "markdown",
      "source": [
        "##### 3. Will the gained insights help creating a positive business impact? \n",
        "Are there any insights that lead to negative growth? Justify with specific reason."
      ],
      "metadata": {
        "id": "RoGjAbkUYoAp"
      }
    },
    {
      "cell_type": "markdown",
      "source": [
        "Answer Here"
      ],
      "metadata": {
        "id": "zfJ8IqMcYoAp"
      }
    },
    {
      "cell_type": "markdown",
      "source": [
        "#### Chart - 4"
      ],
      "metadata": {
        "id": "4Of9eVA-YrdM"
      }
    },
    {
      "cell_type": "code",
      "source": [
        "# Chart - 4 visualization code\n",
        "plt.subplots(figsize=(15,6))\n",
        "sns.barplot(x=newdata1['country_txt'].value_counts()[:15].index,\n",
        "            y=newdata1['country_txt'].value_counts()[:15].values,\n",
        "            palette=\"Blues_d\")\n",
        "plt.title('Top Countries Affected')\n",
        "plt.xlabel('Countries')\n",
        "plt.ylabel('Attacks')\n",
        "plt.xticks(rotation= 90)\n",
        "plt.show()"
      ],
      "metadata": {
        "id": "irlUoxc8YrdO"
      },
      "execution_count": null,
      "outputs": []
    },
    {
      "cell_type": "markdown",
      "source": [
        "##### 1. Why did you pick the specific chart?"
      ],
      "metadata": {
        "id": "iky9q4vBYrdO"
      }
    },
    {
      "cell_type": "markdown",
      "source": [
        "Answer Here."
      ],
      "metadata": {
        "id": "aJRCwT6DYrdO"
      }
    },
    {
      "cell_type": "markdown",
      "source": [
        "##### 2. What is/are the insight(s) found from the chart?"
      ],
      "metadata": {
        "id": "F6T5p64dYrdO"
      }
    },
    {
      "cell_type": "markdown",
      "source": [
        "Answer Here"
      ],
      "metadata": {
        "id": "Xx8WAJvtYrdO"
      }
    },
    {
      "cell_type": "markdown",
      "source": [
        "##### 3. Will the gained insights help creating a positive business impact? \n",
        "Are there any insights that lead to negative growth? Justify with specific reason."
      ],
      "metadata": {
        "id": "y-Ehk30pYrdP"
      }
    },
    {
      "cell_type": "markdown",
      "source": [
        "Answer Here"
      ],
      "metadata": {
        "id": "jLNxxz7MYrdP"
      }
    },
    {
      "cell_type": "markdown",
      "source": [
        "#### Chart - 5"
      ],
      "metadata": {
        "id": "bamQiAODYuh1"
      }
    },
    {
      "cell_type": "code",
      "source": [
        "newdata1.gname.value_counts()[0:15]"
      ],
      "metadata": {
        "id": "b_FCeIuovaVf"
      },
      "execution_count": null,
      "outputs": []
    },
    {
      "cell_type": "code",
      "source": [
        "# Chart - 5 visualization code\n",
        "plt.subplots(figsize=(15,6))\n",
        "sns.barplot(x=newdata1['weaptype1_txt'].value_counts()[:7].index,\n",
        "            y=newdata1['weaptype1_txt'].value_counts()[:7].values,\n",
        "            palette=\"copper\")\n",
        "plt.title('Most Used Weapons')\n",
        "plt.xlabel('Weapons Type')\n",
        "plt.ylabel('No of Attacks')\n",
        "plt.xticks(rotation= 0)\n",
        "plt.show()"
      ],
      "metadata": {
        "id": "TIJwrbroYuh3"
      },
      "execution_count": null,
      "outputs": []
    },
    {
      "cell_type": "markdown",
      "source": [
        "##### 1. Why did you pick the specific chart?"
      ],
      "metadata": {
        "id": "QHF8YVU7Yuh3"
      }
    },
    {
      "cell_type": "markdown",
      "source": [
        "Answer Here."
      ],
      "metadata": {
        "id": "dcxuIMRPYuh3"
      }
    },
    {
      "cell_type": "markdown",
      "source": [
        "##### 2. What is/are the insight(s) found from the chart?"
      ],
      "metadata": {
        "id": "GwzvFGzlYuh3"
      }
    },
    {
      "cell_type": "markdown",
      "source": [
        "Answer Here"
      ],
      "metadata": {
        "id": "uyqkiB8YYuh3"
      }
    },
    {
      "cell_type": "markdown",
      "source": [
        "##### 3. Will the gained insights help creating a positive business impact? \n",
        "Are there any insights that lead to negative growth? Justify with specific reason."
      ],
      "metadata": {
        "id": "qYpmQ266Yuh3"
      }
    },
    {
      "cell_type": "markdown",
      "source": [
        "Answer Here"
      ],
      "metadata": {
        "id": "_WtzZ_hCYuh4"
      }
    },
    {
      "cell_type": "markdown",
      "source": [
        "#### Chart - 6"
      ],
      "metadata": {
        "id": "OH-pJp9IphqM"
      }
    },
    {
      "cell_type": "code",
      "source": [
        "# Chart - 6 visualization code\n",
        "plt.subplots(figsize=(17,6))\n",
        "sns.barplot(x=newdata1['gname'].value_counts()[1:15].index,\n",
        "            y=newdata1['gname'].value_counts()[1:15].values,\n",
        "            palette=\"magma\")\n",
        "plt.title('Top Responsible Groups')\n",
        "plt.xlabel('Terrorist Groups')\n",
        "plt.ylabel('No of Attacks')\n",
        "plt.xticks(rotation= 75)\n",
        "plt.show()"
      ],
      "metadata": {
        "id": "kuRf4wtuphqN"
      },
      "execution_count": null,
      "outputs": []
    },
    {
      "cell_type": "markdown",
      "source": [
        "##### 1. Why did you pick the specific chart?"
      ],
      "metadata": {
        "id": "bbFf2-_FphqN"
      }
    },
    {
      "cell_type": "markdown",
      "source": [
        "Answer Here."
      ],
      "metadata": {
        "id": "loh7H2nzphqN"
      }
    },
    {
      "cell_type": "markdown",
      "source": [
        "##### 2. What is/are the insight(s) found from the chart?"
      ],
      "metadata": {
        "id": "_ouA3fa0phqN"
      }
    },
    {
      "cell_type": "markdown",
      "source": [
        "Answer Here"
      ],
      "metadata": {
        "id": "VECbqPI7phqN"
      }
    },
    {
      "cell_type": "markdown",
      "source": [
        "##### 3. Will the gained insights help creating a positive business impact? \n",
        "Are there any insights that lead to negative growth? Justify with specific reason."
      ],
      "metadata": {
        "id": "Seke61FWphqN"
      }
    },
    {
      "cell_type": "markdown",
      "source": [
        "Answer Here"
      ],
      "metadata": {
        "id": "DW4_bGpfphqN"
      }
    },
    {
      "cell_type": "markdown",
      "source": [
        "#### Chart - 7"
      ],
      "metadata": {
        "id": "PIIx-8_IphqN"
      }
    },
    {
      "cell_type": "code",
      "source": [
        "# Chart - 7 visualization code\n",
        "plt.subplots(figsize=(20,8))\n",
        "sns.lineplot(x=newdata1['year'].value_counts().index,\n",
        "            y=newdata1['year'].value_counts().values,)\n",
        "plt.title('Year Wise Attack')\n",
        "plt.xlabel('Year')\n",
        "plt.ylabel('No of Attacks')\n",
        "plt.show()\n"
      ],
      "metadata": {
        "id": "lqAIGUfyphqO"
      },
      "execution_count": null,
      "outputs": []
    },
    {
      "cell_type": "markdown",
      "source": [
        "##### 1. Why did you pick the specific chart?"
      ],
      "metadata": {
        "id": "t27r6nlMphqO"
      }
    },
    {
      "cell_type": "markdown",
      "source": [
        "Answer Here."
      ],
      "metadata": {
        "id": "iv6ro40sphqO"
      }
    },
    {
      "cell_type": "markdown",
      "source": [
        "##### 2. What is/are the insight(s) found from the chart?"
      ],
      "metadata": {
        "id": "r2jJGEOYphqO"
      }
    },
    {
      "cell_type": "markdown",
      "source": [
        "Answer Here"
      ],
      "metadata": {
        "id": "Po6ZPi4hphqO"
      }
    },
    {
      "cell_type": "markdown",
      "source": [
        "##### 3. Will the gained insights help creating a positive business impact? \n",
        "Are there any insights that lead to negative growth? Justify with specific reason."
      ],
      "metadata": {
        "id": "b0JNsNcRphqO"
      }
    },
    {
      "cell_type": "markdown",
      "source": [
        "Answer Here"
      ],
      "metadata": {
        "id": "xvSq8iUTphqO"
      }
    },
    {
      "cell_type": "markdown",
      "source": [
        "#### Chart - 8"
      ],
      "metadata": {
        "id": "BZR9WyysphqO"
      }
    },
    {
      "cell_type": "code",
      "source": [
        "# Chart - 8 visualization code"
      ],
      "metadata": {
        "id": "TdPTWpAVphqO"
      },
      "execution_count": null,
      "outputs": []
    },
    {
      "cell_type": "markdown",
      "source": [
        "##### 1. Why did you pick the specific chart?"
      ],
      "metadata": {
        "id": "jj7wYXLtphqO"
      }
    },
    {
      "cell_type": "markdown",
      "source": [
        "Answer Here."
      ],
      "metadata": {
        "id": "Ob8u6rCTphqO"
      }
    },
    {
      "cell_type": "markdown",
      "source": [
        "##### 2. What is/are the insight(s) found from the chart?"
      ],
      "metadata": {
        "id": "eZrbJ2SmphqO"
      }
    },
    {
      "cell_type": "markdown",
      "source": [
        "Answer Here"
      ],
      "metadata": {
        "id": "mZtgC_hjphqO"
      }
    },
    {
      "cell_type": "markdown",
      "source": [
        "##### 3. Will the gained insights help creating a positive business impact? \n",
        "Are there any insights that lead to negative growth? Justify with specific reason."
      ],
      "metadata": {
        "id": "rFu4xreNphqO"
      }
    },
    {
      "cell_type": "markdown",
      "source": [
        "Answer Here"
      ],
      "metadata": {
        "id": "ey_0qi68phqO"
      }
    },
    {
      "cell_type": "markdown",
      "source": [
        "#### Chart - 9"
      ],
      "metadata": {
        "id": "YJ55k-q6phqO"
      }
    },
    {
      "cell_type": "code",
      "source": [
        "# Chart - 9 visualization code"
      ],
      "metadata": {
        "id": "B2aS4O1ophqO"
      },
      "execution_count": null,
      "outputs": []
    },
    {
      "cell_type": "markdown",
      "source": [
        "##### 1. Why did you pick the specific chart?"
      ],
      "metadata": {
        "id": "gCFgpxoyphqP"
      }
    },
    {
      "cell_type": "markdown",
      "source": [
        "Answer Here."
      ],
      "metadata": {
        "id": "TVxDimi2phqP"
      }
    },
    {
      "cell_type": "markdown",
      "source": [
        "##### 2. What is/are the insight(s) found from the chart?"
      ],
      "metadata": {
        "id": "OVtJsKN_phqQ"
      }
    },
    {
      "cell_type": "markdown",
      "source": [
        "Answer Here"
      ],
      "metadata": {
        "id": "ngGi97qjphqQ"
      }
    },
    {
      "cell_type": "markdown",
      "source": [
        "##### 3. Will the gained insights help creating a positive business impact? \n",
        "Are there any insights that lead to negative growth? Justify with specific reason."
      ],
      "metadata": {
        "id": "lssrdh5qphqQ"
      }
    },
    {
      "cell_type": "markdown",
      "source": [
        "Answer Here"
      ],
      "metadata": {
        "id": "tBpY5ekJphqQ"
      }
    },
    {
      "cell_type": "markdown",
      "source": [
        "#### Chart - 10"
      ],
      "metadata": {
        "id": "U2RJ9gkRphqQ"
      }
    },
    {
      "cell_type": "code",
      "source": [
        "# Chart - 10 visualization code"
      ],
      "metadata": {
        "id": "GM7a4YP4phqQ"
      },
      "execution_count": null,
      "outputs": []
    },
    {
      "cell_type": "markdown",
      "source": [
        "##### 1. Why did you pick the specific chart?"
      ],
      "metadata": {
        "id": "1M8mcRywphqQ"
      }
    },
    {
      "cell_type": "markdown",
      "source": [
        "Answer Here."
      ],
      "metadata": {
        "id": "8agQvks0phqQ"
      }
    },
    {
      "cell_type": "markdown",
      "source": [
        "##### 2. What is/are the insight(s) found from the chart?"
      ],
      "metadata": {
        "id": "tgIPom80phqQ"
      }
    },
    {
      "cell_type": "markdown",
      "source": [
        "Answer Here"
      ],
      "metadata": {
        "id": "Qp13pnNzphqQ"
      }
    },
    {
      "cell_type": "markdown",
      "source": [
        "##### 3. Will the gained insights help creating a positive business impact? \n",
        "Are there any insights that lead to negative growth? Justify with specific reason."
      ],
      "metadata": {
        "id": "JMzcOPDDphqR"
      }
    },
    {
      "cell_type": "markdown",
      "source": [
        "Answer Here"
      ],
      "metadata": {
        "id": "R4Ka1PC2phqR"
      }
    },
    {
      "cell_type": "markdown",
      "source": [
        "#### Chart - 11"
      ],
      "metadata": {
        "id": "x-EpHcCOp1ci"
      }
    },
    {
      "cell_type": "code",
      "source": [
        "# Chart - 11 visualization code"
      ],
      "metadata": {
        "id": "mAQTIvtqp1cj"
      },
      "execution_count": null,
      "outputs": []
    },
    {
      "cell_type": "markdown",
      "source": [
        "##### 1. Why did you pick the specific chart?"
      ],
      "metadata": {
        "id": "X_VqEhTip1ck"
      }
    },
    {
      "cell_type": "markdown",
      "source": [
        "Answer Here."
      ],
      "metadata": {
        "id": "-vsMzt_np1ck"
      }
    },
    {
      "cell_type": "markdown",
      "source": [
        "##### 2. What is/are the insight(s) found from the chart?"
      ],
      "metadata": {
        "id": "8zGJKyg5p1ck"
      }
    },
    {
      "cell_type": "markdown",
      "source": [
        "Answer Here"
      ],
      "metadata": {
        "id": "ZYdMsrqVp1ck"
      }
    },
    {
      "cell_type": "markdown",
      "source": [
        "##### 3. Will the gained insights help creating a positive business impact? \n",
        "Are there any insights that lead to negative growth? Justify with specific reason."
      ],
      "metadata": {
        "id": "PVzmfK_Ep1ck"
      }
    },
    {
      "cell_type": "markdown",
      "source": [
        "Answer Here"
      ],
      "metadata": {
        "id": "druuKYZpp1ck"
      }
    },
    {
      "cell_type": "markdown",
      "source": [
        "#### Chart - 12"
      ],
      "metadata": {
        "id": "n3dbpmDWp1ck"
      }
    },
    {
      "cell_type": "code",
      "source": [
        "# Chart - 12 visualization code"
      ],
      "metadata": {
        "id": "bwevp1tKp1ck"
      },
      "execution_count": null,
      "outputs": []
    },
    {
      "cell_type": "markdown",
      "source": [
        "##### 1. Why did you pick the specific chart?"
      ],
      "metadata": {
        "id": "ylSl6qgtp1ck"
      }
    },
    {
      "cell_type": "markdown",
      "source": [
        "Answer Here."
      ],
      "metadata": {
        "id": "m2xqNkiQp1ck"
      }
    },
    {
      "cell_type": "markdown",
      "source": [
        "##### 2. What is/are the insight(s) found from the chart?"
      ],
      "metadata": {
        "id": "ZWILFDl5p1ck"
      }
    },
    {
      "cell_type": "markdown",
      "source": [
        "Answer Here"
      ],
      "metadata": {
        "id": "x-lUsV2mp1ck"
      }
    },
    {
      "cell_type": "markdown",
      "source": [
        "##### 3. Will the gained insights help creating a positive business impact? \n",
        "Are there any insights that lead to negative growth? Justify with specific reason."
      ],
      "metadata": {
        "id": "M7G43BXep1ck"
      }
    },
    {
      "cell_type": "markdown",
      "source": [
        "Answer Here"
      ],
      "metadata": {
        "id": "5wwDJXsLp1cl"
      }
    },
    {
      "cell_type": "markdown",
      "source": [
        "#### Chart - 13"
      ],
      "metadata": {
        "id": "Ag9LCva-p1cl"
      }
    },
    {
      "cell_type": "code",
      "source": [
        "# Chart - 13 visualization code"
      ],
      "metadata": {
        "id": "EUfxeq9-p1cl"
      },
      "execution_count": null,
      "outputs": []
    },
    {
      "cell_type": "markdown",
      "source": [
        "##### 1. Why did you pick the specific chart?"
      ],
      "metadata": {
        "id": "E6MkPsBcp1cl"
      }
    },
    {
      "cell_type": "markdown",
      "source": [
        "Answer Here."
      ],
      "metadata": {
        "id": "V22bRsFWp1cl"
      }
    },
    {
      "cell_type": "markdown",
      "source": [
        "##### 2. What is/are the insight(s) found from the chart?"
      ],
      "metadata": {
        "id": "2cELzS2fp1cl"
      }
    },
    {
      "cell_type": "markdown",
      "source": [
        "Answer Here"
      ],
      "metadata": {
        "id": "ozQPc2_Ip1cl"
      }
    },
    {
      "cell_type": "markdown",
      "source": [
        "##### 3. Will the gained insights help creating a positive business impact? \n",
        "Are there any insights that lead to negative growth? Justify with specific reason."
      ],
      "metadata": {
        "id": "3MPXvC8up1cl"
      }
    },
    {
      "cell_type": "markdown",
      "source": [
        "Answer Here"
      ],
      "metadata": {
        "id": "GL8l1tdLp1cl"
      }
    },
    {
      "cell_type": "markdown",
      "source": [
        "#### Chart - 14 - Correlation Heatmap"
      ],
      "metadata": {
        "id": "NC_X3p0fY2L0"
      }
    },
    {
      "cell_type": "code",
      "source": [
        "list[df_dropped.columns]"
      ],
      "metadata": {
        "id": "W43KgIEtlhOG"
      },
      "execution_count": null,
      "outputs": []
    },
    {
      "cell_type": "code",
      "source": [
        "corr_mat = newdata1.corr()\n",
        "f, ax = plt.subplots(figsize=(12, 7))\n",
        "sns.heatmap(corr_mat,vmax=0.8,annot = True,fmt='.2f');\n"
      ],
      "metadata": {
        "id": "wLdvbaTtpLBo"
      },
      "execution_count": null,
      "outputs": []
    },
    {
      "cell_type": "markdown",
      "source": [
        "##### 1. Why did you pick the specific chart?"
      ],
      "metadata": {
        "id": "UV0SzAkaZNRQ"
      }
    },
    {
      "cell_type": "markdown",
      "source": [
        "Answer Here."
      ],
      "metadata": {
        "id": "DVPuT8LYZNRQ"
      }
    },
    {
      "cell_type": "markdown",
      "source": [
        "##### 2. What is/are the insight(s) found from the chart?"
      ],
      "metadata": {
        "id": "YPEH6qLeZNRQ"
      }
    },
    {
      "cell_type": "markdown",
      "source": [
        "Answer Here"
      ],
      "metadata": {
        "id": "bfSqtnDqZNRR"
      }
    },
    {
      "cell_type": "markdown",
      "source": [
        "#### Chart - 15 - Pair Plot "
      ],
      "metadata": {
        "id": "q29F0dvdveiT"
      }
    },
    {
      "cell_type": "code",
      "source": [
        "# Pair Plot visualization code"
      ],
      "metadata": {
        "id": "o58-TEIhveiU"
      },
      "execution_count": null,
      "outputs": []
    },
    {
      "cell_type": "markdown",
      "source": [
        "##### 1. Why did you pick the specific chart?"
      ],
      "metadata": {
        "id": "EXh0U9oCveiU"
      }
    },
    {
      "cell_type": "markdown",
      "source": [
        "Answer Here."
      ],
      "metadata": {
        "id": "eMmPjTByveiU"
      }
    },
    {
      "cell_type": "markdown",
      "source": [
        "##### 2. What is/are the insight(s) found from the chart?"
      ],
      "metadata": {
        "id": "22aHeOlLveiV"
      }
    },
    {
      "cell_type": "markdown",
      "source": [
        "Answer Here"
      ],
      "metadata": {
        "id": "uPQ8RGwHveiV"
      }
    },
    {
      "cell_type": "markdown",
      "source": [
        "## **5. Solution to Business Objective**"
      ],
      "metadata": {
        "id": "JcMwzZxoAimU"
      }
    },
    {
      "cell_type": "markdown",
      "source": [
        "#### What do you suggest the client to achieve Business Objective ? \n",
        "Explain Briefly."
      ],
      "metadata": {
        "id": "8G2x9gOozGDZ"
      }
    },
    {
      "cell_type": "markdown",
      "source": [
        "Answer Here."
      ],
      "metadata": {
        "id": "pASKb0qOza21"
      }
    },
    {
      "cell_type": "markdown",
      "source": [
        "# **Conclusion** sample"
      ],
      "metadata": {
        "id": "gCX9965dhzqZ"
      }
    },
    {
      "cell_type": "markdown",
      "source": [
        "* The hot zone of terrorism till 2017, is Middle East & North Africa.\n",
        "\n",
        "* The country which has mostly faced the terror attacks is Iraq.\n",
        "\n",
        "* In the year 2014, the number of terror attacks are most.\n",
        "\n",
        "* The group Taliban has been behind the attacks more than other terrorists\n",
        "  groups.\n",
        "\n",
        "* Mostly Bombing/Explosion type attack has been chosen for the terrorism \n",
        "  acts.\n",
        "\n",
        "* Private Citizens & Property are mostly targetted following Militaries \n",
        "  and Police Forces.\n",
        "\n",
        "* Unclaimed attacks caused most of the casualties in terms of terror \n",
        "  attacks.\n"
      ],
      "metadata": {
        "id": "Fjb1IsQkh3yE"
      }
    },
    {
      "cell_type": "markdown",
      "source": [
        "### ***Hurrah! You have successfully completed your EDA Capstone Project !!!***"
      ],
      "metadata": {
        "id": "gIfDvo9L0UH2"
      }
    }
  ]
}